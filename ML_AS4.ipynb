{
 "cells": [
  {
   "cell_type": "markdown",
   "id": "18701c05",
   "metadata": {},
   "source": [
    "Perform Step 1 import the synthetic dataset\n",
    "\n"
   ]
  },
  {
   "cell_type": "code",
   "execution_count": 107,
   "id": "aeda0ea7",
   "metadata": {},
   "outputs": [],
   "source": [
    "from sklearn.datasets import make_classification\n",
    "from sklearn.neural_network import MLPClassifier as MLP\n",
    "from sklearn.model_selection import cross_val_score\n",
    "import numpy as np\n",
    "from warnings import simplefilter\n",
    "from sklearn.exceptions import ConvergenceWarning\n",
    "simplefilter(\"ignore\", category=ConvergenceWarning)\n",
    "\n",
    "X, y = make_classification(n_samples = 10000, n_features=20, n_informative=10, n_redundant=2,n_classes=2, n_clusters_per_class=2, weights=None, flip_y=0.01, class_sep=1.0, hypercube=True, shift=0.0, scale=1.0, shuffle=True,random_state=None)"
   ]
  },
  {
   "cell_type": "markdown",
   "id": "8d12326b",
   "metadata": {},
   "source": [
    "Step 2 Changing the hidden layer sizes 10 and 20"
   ]
  },
  {
   "cell_type": "code",
   "execution_count": 123,
   "id": "cf5ea2e4",
   "metadata": {},
   "outputs": [
    {
     "name": "stdout",
     "output_type": "stream",
     "text": [
      "The 5-CV calculated score is with hiddent layer size 10 :  [0.967  0.975  0.9655 0.975  0.976 ]\n",
      "The 5-CV calculated score is with hiddent layer size 20 :  [0.973  0.9725 0.9715 0.9745 0.971 ]\n"
     ]
    }
   ],
   "source": [
    "classifier = MLP(hidden_layer_sizes=(10,),activation='relu', max_iter=300).fit(X, y)\n",
    "scores = cross_val_score(classifier, X, y, scoring='accuracy', cv=5, n_jobs=-1)\n",
    "print(\"The 5-CV calculated score is with hiddent layer size 10 : \",scores)\n",
    "classifier1 = MLP(hidden_layer_sizes=(20,),activation='relu', max_iter=300).fit(X, y)\n",
    "scores1 = cross_val_score(classifier1, X, y, scoring='accuracy', cv=5, n_jobs=-1)\n",
    "print(\"The 5-CV calculated score is with hiddent layer size 20 : \",scores1)\n",
    "    "
   ]
  },
  {
   "cell_type": "markdown",
   "id": "58d6628a",
   "metadata": {},
   "source": [
    "Step 2 Changing the activation to  \"identity\" with hidden layer sizes 10 and 20"
   ]
  },
  {
   "cell_type": "code",
   "execution_count": 112,
   "id": "d82c8143",
   "metadata": {},
   "outputs": [
    {
     "name": "stdout",
     "output_type": "stream",
     "text": [
      "The 5-CV calculated score is with hiddent layer size 10 and activation='identity' :  [0.9455 0.949  0.931  0.9455 0.947 ]\n",
      "The 5-CV calculated score is with hiddent layer size 20 and activation='identity':  [0.9455 0.9495 0.9315 0.9455 0.9485]\n"
     ]
    }
   ],
   "source": [
    "classifier10 = MLP(hidden_layer_sizes=(10,),activation='identity', max_iter=300).fit(X, y)\n",
    "scores10 = cross_val_score(classifier10, X, y, scoring='accuracy', cv=5, n_jobs=-1)\n",
    "print(\"The 5-CV calculated score is with hiddent layer size 10 and activation='identity' : \",scores10)\n",
    "classifier20 = MLP(hidden_layer_sizes=(20,),activation='identity', max_iter=300).fit(X, y)\n",
    "scores20 = cross_val_score(classifier20, X, y, scoring='accuracy', cv=5, n_jobs=-1)\n",
    "print(\"The 5-CV calculated score is with hiddent layer size 20 and activation='identity': \",scores20)"
   ]
  },
  {
   "cell_type": "markdown",
   "id": "28497cb2",
   "metadata": {},
   "source": [
    "Step 3: Decrease the n_informative to any size (5) and perform the step 2"
   ]
  },
  {
   "cell_type": "code",
   "execution_count": 110,
   "id": "c6ac89cb",
   "metadata": {},
   "outputs": [],
   "source": [
    "X1, y1 = make_classification(n_samples = 10000, n_features=20, n_informative=5, n_redundant=2,n_classes=2, n_clusters_per_class=2, weights=None, flip_y=0.01, class_sep=1.0, hypercube=True, shift=0.0, scale=1.0, shuffle=True,random_state=None)"
   ]
  },
  {
   "cell_type": "code",
   "execution_count": 115,
   "id": "f78b84c7",
   "metadata": {},
   "outputs": [
    {
     "name": "stdout",
     "output_type": "stream",
     "text": [
      "The 5-CV calculated score is with hiddent layer size 10 with decreased n_informative = 5:  [0.9175 0.9125 0.9025 0.892  0.9045]\n",
      "The 5-CV calculated score is with hiddent layer size 20 with decreased n_informative = 5:  [0.916  0.916  0.903  0.915  0.9135]\n"
     ]
    }
   ],
   "source": [
    "classifier_new10 = MLP(hidden_layer_sizes=(10,),activation='relu', max_iter=300).fit(X1, y1)\n",
    "scores_new10 = cross_val_score(classifier_new10, X1, y1, scoring='accuracy', cv=5, n_jobs=-1)\n",
    "print(\"The 5-CV calculated score is with hiddent layer size 10 with decreased n_informative = 5: \",scores_new10)\n",
    "classifier_new20 = MLP(hidden_layer_sizes=(20,),activation='relu', max_iter=300).fit(X1, y1)\n",
    "scores_new20 = cross_val_score(classifier_new20, X1, y1, scoring='accuracy', cv=5, n_jobs=-1)\n",
    "print(\"The 5-CV calculated score is with hiddent layer size 20 with decreased n_informative = 5: \",scores_new20)"
   ]
  },
  {
   "cell_type": "markdown",
   "id": "4afc2f94",
   "metadata": {},
   "source": [
    "Taking the average of all scores with diferent noise features"
   ]
  },
  {
   "cell_type": "code",
   "execution_count": 128,
   "id": "7b5d7c4d",
   "metadata": {},
   "outputs": [
    {
     "name": "stdout",
     "output_type": "stream",
     "text": [
      "compare the average of all scores: \n",
      " (0.9716999999999999, 0.9724999999999999, 0.9436, 0.9441, 0.9057999999999999, 0.9127000000000001)\n"
     ]
    }
   ],
   "source": [
    "mean_results = (np.mean(scores), np.mean(scores1) ,np.mean(scores10),  np.mean(scores20),np.mean(scores_new10),np.mean(scores_new20))\n",
    "\n",
    "print('compare the average of all scores: \\n', mean_results )"
   ]
  },
  {
   "cell_type": "markdown",
   "id": "9ba217b4",
   "metadata": {},
   "source": [
    "As the increase in the number of noisy features resulted in a decrease in the average accuracy of the 5-fold validation."
   ]
  },
  {
   "cell_type": "code",
   "execution_count": null,
   "id": "d5f13c28",
   "metadata": {},
   "outputs": [],
   "source": []
  }
 ],
 "metadata": {
  "kernelspec": {
   "display_name": "Python 3 (ipykernel)",
   "language": "python",
   "name": "python3"
  },
  "language_info": {
   "codemirror_mode": {
    "name": "ipython",
    "version": 3
   },
   "file_extension": ".py",
   "mimetype": "text/x-python",
   "name": "python",
   "nbconvert_exporter": "python",
   "pygments_lexer": "ipython3",
   "version": "3.9.7"
  }
 },
 "nbformat": 4,
 "nbformat_minor": 5
}
